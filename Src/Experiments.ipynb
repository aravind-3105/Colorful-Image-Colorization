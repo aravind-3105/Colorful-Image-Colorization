{
 "cells": [
  {
   "attachments": {},
   "cell_type": "markdown",
   "metadata": {},
   "source": [
    "# Project Experiments\n",
    "\n",
    "In this notebook, we will be presenting the code for the experiments that have been done in the project. These experiments are namely:\n",
    "\n",
    "- Check test predictions for trained model\n",
    "- Generate predictions for ImageNet test dataset\n",
    "- Conduct ablation study for model with 2 different architectures\n",
    "\n",
    "These experiments have mostly been done on Ada via scripts, but have been compiled here in this notebook as proof of work. All the generated results have been uploaded to the OneDrive link shared, and the code present here is equivalent to the code used in the notebooks.\n",
    "\n",
    "The python script train.py was run on Ada to train the models and generate checkpoints.\n",
    "\n",
    "### Sample colourization output\n",
    "\n",
    "In this section, we will take a random subset of images and attempt to output their colourization."
   ]
  },
  {
   "cell_type": "code",
   "execution_count": null,
   "metadata": {},
   "outputs": [],
   "source": []
  }
 ],
 "metadata": {
  "language_info": {
   "name": "python"
  },
  "orig_nbformat": 4
 },
 "nbformat": 4,
 "nbformat_minor": 2
}
